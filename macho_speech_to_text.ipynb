{
 "cells": [
  {
   "cell_type": "markdown",
   "metadata": {},
   "source": [
    "# Offline Speech-to-Text with Vosk-api"
   ]
  },
  {
   "cell_type": "markdown",
   "metadata": {},
   "source": [
    "While looking for open-source Speech-to-Text software, I stumbled upon a [post](https://fosspost.org/open-source-speech-recognition-2020/) mentioning a new speech recognition system called Vosk.\n",
    "\n",
    "I had previously tested pocketsphinx and struggled to get the python deepspeech library installed on my Windows machine; so I was really excited when I found how easy it was to install Vosk (here's the installation [instructions](https://alphacephei.com/vosk/install)).\n",
    "\n",
    "Vosk has a few pre-trained models ([link](https://alphacephei.com/vosk/models)), so I grabbed the largest model pre-trained model and decided to test it with a challenging audio file. "
   ]
  },
  {
   "cell_type": "markdown",
   "metadata": {},
   "source": [
    "## Macho Madness"
   ]
  },
  {
   "cell_type": "markdown",
   "metadata": {},
   "source": [
    "Enter the Macho Man. If I didn't grow up watching the WWF, I would probably struggle to understand what the Macho Man Randy Savage was saying. \n",
    "\n",
    "Click the link below to watch an entertaining interview by Gene Okerlund."
   ]
  },
  {
   "cell_type": "code",
   "execution_count": 1,
   "metadata": {},
   "outputs": [
    {
     "data": {
      "image/jpeg": "[encoded data removed]",
      "text/html": [
       "\n",
       "        <iframe\n",
       "            width=\"600\"\n",
       "            height=\"300\"\n",
       "            src=\"https://www.youtube.com/embed/rWrlAmT4jyA\"\n",
       "            frameborder=\"0\"\n",
       "            allowfullscreen\n",
       "        ></iframe>\n",
       "        "
      ],
      "text/plain": [
       "<IPython.lib.display.YouTubeVideo at 0x1d981c4e190>"
      ]
     },
     "execution_count": 1,
     "metadata": {},
     "output_type": "execute_result"
    }
   ],
   "source": [
    "from IPython.display import Audio,Image, YouTubeVideo\n",
    "id='rWrlAmT4jyA'\n",
    "YouTubeVideo(id=id,width=600,height=300)"
   ]
  },
  {
   "cell_type": "markdown",
   "metadata": {},
   "source": [
    "# Transcribing the Interview"
   ]
  },
  {
   "cell_type": "markdown",
   "metadata": {},
   "source": [
    "Let's test this software.\n",
    "\n",
    "Ooohhh Yeeaaaahhhh!!!"
   ]
  },
  {
   "cell_type": "code",
   "execution_count": 2,
   "metadata": {},
   "outputs": [
    {
     "name": "stdout",
     "output_type": "stream",
     "text": [
      "today though i'm certain my guess that this time will not forget i'm talking about the former intercontinental champion of the world macho man know what i'm saying nothing means nothing nothing means nothing what do you mean by that or i'm talking about all the way to the top you hear hooves\n",
      "mr for\n",
      "i'd rather not me in queens\n",
      "he's a four year much room in this year's got more room for improvement tony things that i cut yeah i know until you something right now cards stacked against the macho man randy savage and wrestle mania free to hit let me see here we receive our point across\n",
      "a couple of world wrestling federation macho man randy savage as nerdy and see what your decision yeah\n",
      "the greed in the world wrestling federation there is no doubt about it yeah you mean geno berlin you that i'm the cream of the crop wait wait a minute already i've got to ask you very seriously do you blame mr jack tunney but it's thing which president of the world wrestling federation for ricky steamboat being the intercontinental champion today\n",
      "he was here\n",
      "moment of glory and i'm living here\n",
      "the queen\n",
      "have you ever told a new everywhere\n",
      "bell must fall but the laurel everywhere except the bell cause hulk hogan yeah\n",
      "i am the queen the queen with the crop\n",
      "i knew more but those are\n",
      "better than the macho man randy savage on balance off balance doesn't matter i'm better than you wore yeah and i'm talking to everyone in the world wrestling federation me talking\n",
      "president tony\n",
      "i'm not going to stop me going to stop you know just out of curiosity ready and i certainly don't want to diminish your tremendous a god given talents but but i'm very curious i haven't seen elizabeth lately she's on the old soda during the season if you're in matches\n",
      "zero yeah pure elite yeah you know i've been\n",
      "right to the end cause they can handle the macho man randy savage\n",
      "nobody does it better\n"
     ]
    }
   ],
   "source": [
    "from vosk import Model, KaldiRecognizer\n",
    "import wave\n",
    "import json\n",
    "\n",
    "model = Model(\"vosk-model-en-us-aspire-0.2\")\n",
    "\n",
    "wf = wave.open(\"tmp.wav\", \"rb\")\n",
    "\n",
    "rec = KaldiRecognizer(model, wf.getframerate())\n",
    "\n",
    "while True:\n",
    "    data = wf.readframes(4000)\n",
    "    if data == b'':\n",
    "        break\n",
    "    a = rec.AcceptWaveform(data)\n",
    "    if (a) and 'result' in rec.Result():\n",
    "        print(json.loads(rec.Result())['text'])"
   ]
  },
  {
   "cell_type": "markdown",
   "metadata": {},
   "source": [
    "# Discussion"
   ]
  },
  {
   "cell_type": "markdown",
   "metadata": {},
   "source": [
    "Well, there you have it. A lot of words weren't transcribed correctly, like the many times \"creme\" is transcribed as \"queen\". Still, the transcriber picks up on some complicated phrases like \"intercontinental champion\", \"world wrestling federation\", \"ricky steamboat\" and \"hulk hogan\". Also, a model trained on Randy Savage's voice might perform better than the pre-trained model used."
   ]
  },
  {
   "cell_type": "code",
   "execution_count": null,
   "metadata": {},
   "outputs": [],
   "source": []
  }
 ],
 "metadata": {
  "kernelspec": {
   "display_name": "Python 3",
   "language": "python",
   "name": "python3"
  },
  "language_info": {
   "codemirror_mode": {
    "name": "ipython",
    "version": 3
   },
   "file_extension": ".py",
   "mimetype": "text/x-python",
   "name": "python",
   "nbconvert_exporter": "python",
   "pygments_lexer": "ipython3",
   "version": "3.8.0"
  }
 },
 "nbformat": 4,
 "nbformat_minor": 4
}
